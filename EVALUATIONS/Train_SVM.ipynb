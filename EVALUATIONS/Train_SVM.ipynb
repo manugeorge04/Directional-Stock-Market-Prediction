{
  "cells": [
    {
      "cell_type": "code",
      "execution_count": 1,
      "metadata": {
        "colab": {
          "base_uri": "https://localhost:8080/",
          "height": 812
        },
        "colab_type": "code",
        "id": "hTIflOKXWxf4",
        "outputId": "309b2322-c6be-4f43-9514-6e4f08b7ef2e"
      },
      "outputs": [
        {
          "name": "stderr",
          "output_type": "stream",
          "text": [
            "[nltk_data] Error loading popular: <urlopen error [SSL:\n",
            "[nltk_data]     CERTIFICATE_VERIFY_FAILED] certificate verify failed:\n",
            "[nltk_data]     unable to get local issuer certificate (_ssl.c:1000)>\n"
          ]
        }
      ],
      "source": [
        "import nltk\n",
        "import pandas as pd\n",
        "import numpy as np\n",
        "nltk.download(\"popular\") \n",
        "from nltk.corpus import stopwords\n",
        "from sklearn.feature_extraction.text import CountVectorizer\n",
        "from sklearn.feature_extraction.text import TfidfTransformer\n",
        "from sklearn.decomposition import PCA\n",
        "from sklearn import preprocessing, svm\n",
        "from sklearn.model_selection import train_test_split\n",
        "from sklearn.metrics import accuracy_score, precision_score, recall_score, f1_score, classification_report\n",
        "stopWords = list(set(stopwords.words('english')))# remove repeated words and then convert to list as the input demands it in list format"
      ]
    },
    {
      "cell_type": "code",
      "execution_count": 2,
      "metadata": {
        "colab": {},
        "colab_type": "code",
        "id": "FttEt1iQW53-"
      },
      "outputs": [],
      "source": [
        "df = pd.read_csv('./final60_amzn.csv')\n",
        "# df = pd.read_csv('./final1440_aapl.csv')"
      ]
    },
    {
      "cell_type": "code",
      "execution_count": 3,
      "metadata": {
        "colab": {
          "base_uri": "https://localhost:8080/",
          "height": 407
        },
        "colab_type": "code",
        "id": "1MkhP9K5cFLf",
        "outputId": "91889764-fec6-40f4-a8cd-97749a5b7a64"
      },
      "outputs": [
        {
          "data": {
            "text/html": [
              "<div>\n",
              "<style scoped>\n",
              "    .dataframe tbody tr th:only-of-type {\n",
              "        vertical-align: middle;\n",
              "    }\n",
              "\n",
              "    .dataframe tbody tr th {\n",
              "        vertical-align: top;\n",
              "    }\n",
              "\n",
              "    .dataframe thead th {\n",
              "        text-align: right;\n",
              "    }\n",
              "</style>\n",
              "<table border=\"1\" class=\"dataframe\">\n",
              "  <thead>\n",
              "    <tr style=\"text-align: right;\">\n",
              "      <th></th>\n",
              "      <th>Unnamed: 0</th>\n",
              "      <th>text</th>\n",
              "      <th>sentiment</th>\n",
              "      <th>label</th>\n",
              "      <th>stock_time</th>\n",
              "    </tr>\n",
              "  </thead>\n",
              "  <tbody>\n",
              "    <tr>\n",
              "      <th>0</th>\n",
              "      <td>0</td>\n",
              "      <td>nape summit week will also feature the annual ...</td>\n",
              "      <td>0.050660</td>\n",
              "      <td>-1.0</td>\n",
              "      <td>2017-12-07 20:00:00</td>\n",
              "    </tr>\n",
              "    <tr>\n",
              "      <th>1</th>\n",
              "      <td>1</td>\n",
              "      <td>from apples hugely anticipated iphone x to sam...</td>\n",
              "      <td>0.107128</td>\n",
              "      <td>1.0</td>\n",
              "      <td>2017-12-08 22:00:00</td>\n",
              "    </tr>\n",
              "    <tr>\n",
              "      <th>2</th>\n",
              "      <td>2</td>\n",
              "      <td>they are not just the largest browser, but the...</td>\n",
              "      <td>0.034394</td>\n",
              "      <td>1.0</td>\n",
              "      <td>2017-12-12 02:00:00</td>\n",
              "    </tr>\n",
              "    <tr>\n",
              "      <th>3</th>\n",
              "      <td>3</td>\n",
              "      <td>the humanitarian crisis in the drc has placed ...</td>\n",
              "      <td>0.000000</td>\n",
              "      <td>-1.0</td>\n",
              "      <td>2017-12-12 22:30:00</td>\n",
              "    </tr>\n",
              "    <tr>\n",
              "      <th>4</th>\n",
              "      <td>4</td>\n",
              "      <td>cramer prefers finisar (nasdaq: fnsr ) after a...</td>\n",
              "      <td>0.035844</td>\n",
              "      <td>-1.0</td>\n",
              "      <td>2017-12-14 18:30:00</td>\n",
              "    </tr>\n",
              "  </tbody>\n",
              "</table>\n",
              "</div>"
            ],
            "text/plain": [
              "   Unnamed: 0                                               text  sentiment  \\\n",
              "0           0  nape summit week will also feature the annual ...   0.050660   \n",
              "1           1  from apples hugely anticipated iphone x to sam...   0.107128   \n",
              "2           2  they are not just the largest browser, but the...   0.034394   \n",
              "3           3  the humanitarian crisis in the drc has placed ...   0.000000   \n",
              "4           4  cramer prefers finisar (nasdaq: fnsr ) after a...   0.035844   \n",
              "\n",
              "   label           stock_time  \n",
              "0   -1.0  2017-12-07 20:00:00  \n",
              "1    1.0  2017-12-08 22:00:00  \n",
              "2    1.0  2017-12-12 02:00:00  \n",
              "3   -1.0  2017-12-12 22:30:00  \n",
              "4   -1.0  2017-12-14 18:30:00  "
            ]
          },
          "execution_count": 3,
          "metadata": {},
          "output_type": "execute_result"
        }
      ],
      "source": [
        "df.head()"
      ]
    },
    {
      "cell_type": "code",
      "execution_count": 4,
      "metadata": {},
      "outputs": [],
      "source": [
        "# paragraph = df['text']\n",
        "# print(type(paragraph))"
      ]
    },
    {
      "cell_type": "code",
      "execution_count": 5,
      "metadata": {
        "colab": {},
        "colab_type": "code",
        "id": "uotwpWh2XAs7"
      },
      "outputs": [],
      "source": [
        "# Data Preparation:\n",
        "# Extract the main text content, sentiment scores, and labels from the dataframe.\n",
        "# 'paragraph' will be used for text analysis, 'sentiments' as an additional feature, and 'labels' as the target for classification.\n",
        "df['text'] = df['text'].fillna('')  # Replacing NaN values with empty strings.\n",
        "\n",
        "paragraph = df['text']\n",
        "sentiments = df['sentiment']\n",
        "labels = df['label']\n",
        "\n",
        "# Text Vectorization:\n",
        "# Initialize a CountVectorizer to transform the text paragraphs into a sparse matrix of token counts.\n",
        "# Configure it to ignore terms that have a document frequency strictly higher than 80% and lower than 2%,\n",
        "# remove stop words, and capture bi-grams to consider phrases as well.\n",
        "vectCount = CountVectorizer(max_df=0.8, min_df=0.02, stop_words=stopWords, ngram_range=(2,2))\n",
        "X = vectCount.fit_transform(paragraph)  # Apply transformation to the paragraph data.\n",
        "\n",
        "# TF-IDF Transformation:\n",
        "# Initialize a TfidfTransformer to convert the sparse matrix of counts to a normalized tf or tf-idf representation,\n",
        "# making the value of each word proportional to its importance in the documents.\n",
        "TransformTfidf = TfidfTransformer(smooth_idf=True, use_idf=True)\n",
        "X = TransformTfidf.fit_transform(X).toarray()  # Apply TF-IDF transformation.\n",
        "\n",
        "# Dimensionality Reduction:\n",
        "# Apply PCA to reduce the transformed data to 3 principal components,\n",
        "# aiming to retain the most important variance features while reducing the dataset's dimensionality.\n",
        "pca = PCA(n_components=3)\n",
        "pcaComponents = pca.fit_transform(X)  # Fit and transform the TF-IDF data.\n",
        "\n",
        "# Feature Augmentation:\n",
        "# Combine the PCA components with sentiment scores to form the final feature set.\n",
        "# This step enhances the feature set by adding sentiment analysis results as an additional dimension.\n",
        "XTrainFinal = np.hstack((pcaComponents, np.atleast_2d(sentiments).T))\n",
        "\n",
        "# Data Splitting:\n",
        "# Split the enhanced feature set and labels into training and testing sets.\n",
        "# Use 70% of the data for training and 30% for testing, with a random state for reproducibility.\n",
        "XTrain, XTest, yTrain, yTest = train_test_split(XTrainFinal, labels, test_size=0.3, random_state=15)\n",
        "\n",
        "# Feature Scaling:\n",
        "# Initialize and apply MinMaxScaler to scale the features of the training and testing data to a [0, 1] range.\n",
        "# Scaling is crucial for models sensitive to the magnitude of input features, ensuring equal contribution to the model's learning process.\n",
        "minmaxScaler = preprocessing.MinMaxScaler()\n",
        "scaledXTrain = minmaxScaler.fit_transform(XTrain)  # Scale the training data features.\n",
        "scaledXTest = minmaxScaler.fit_transform(XTest)    # Scale the testing data features.\n"
      ]
    },
    {
      "cell_type": "code",
      "execution_count": 6,
      "metadata": {
        "colab": {
          "base_uri": "https://localhost:8080/",
          "height": 86
        },
        "colab_type": "code",
        "id": "2Bv5soOUXDJu",
        "outputId": "98f04ed7-e5ed-47b1-e54d-ef04edb79ea9"
      },
      "outputs": [
        {
          "name": "stdout",
          "output_type": "stream",
          "text": [
            "Training accuracy: 0.53\n",
            "Testing accuracy: 0.49\n",
            "Precision: 0.52\n",
            "Recall: 0.61\n"
          ]
        }
      ],
      "source": [
        "# Model Initialization and Training:\n",
        "# Initialize the SVM model using the Nu-Support Vector Classification algorithm with probability estimates enabled.\n",
        "# This configuration is suitable for binary classification tasks or multi-class classification on a dataset.\n",
        "# The model is then trained on the scaled training dataset along with the corresponding training labels.\n",
        "SVMModel = svm.NuSVC(probability=True)\n",
        "SVMModel.fit(scaledXTrain, yTrain)\n",
        "\n",
        "# Prediction:\n",
        "# After training, the model is used to predict the labels for both the training and testing datasets.\n",
        "# This allows us to evaluate the model's performance on both seen (training) and unseen (testing) data.\n",
        "yTrainPred = SVMModel.predict(scaledXTrain)\n",
        "yTestPred = SVMModel.predict(scaledXTest)\n",
        "\n",
        "# Accuracy Calculation:\n",
        "# Calculate the accuracy of the model on both the training and testing sets.\n",
        "# Accuracy is the proportion of true results (both true positives and true negatives) in the total number of cases examined.\n",
        "# It provides a measure of how well the model performs overall across all classes.\n",
        "trainingAccuracy = accuracy_score(yTrain, yTrainPred)\n",
        "testAccuracy = accuracy_score(yTest, yTestPred)\n",
        "\n",
        "# Precision and Recall Calculation:\n",
        "# Precision is the ratio of true positives to the sum of true and false positives.\n",
        "# It indicates the accuracy of positive predictions made by the model.\n",
        "precisionScore = precision_score(yTest, yTestPred)\n",
        "\n",
        "# Recall (or sensitivity) is the ratio of true positives to the sum of true positives and false negatives.\n",
        "# It measures the model's ability to detect positive instances among the actual positives.\n",
        "recallScore = recall_score(yTest, yTestPred)\n",
        "\n",
        "# Output:\n",
        "# Print the calculated metrics to evaluate and compare the model's performance on the training and testing sets.\n",
        "# High precision and recall scores indicate a model that is both accurate and reliable in its positive classifications.\n",
        "print(f'Training accuracy: {trainingAccuracy:.2f}')\n",
        "print(f'Testing accuracy: {testAccuracy:.2f}')\n",
        "print(f'Precision: {precisionScore:.2f}')\n",
        "print(f'Recall: {recallScore:.2f}')\n"
      ]
    },
    {
      "cell_type": "code",
      "execution_count": 7,
      "metadata": {
        "colab": {},
        "colab_type": "code",
        "id": "AUKr2ulocV4u"
      },
      "outputs": [],
      "source": [
        "# Data Extraction:\n",
        "# Extract text content and corresponding labels from the dataframe to use as input data and target labels respectively.\n",
        "paragraph = df['text']\n",
        "labels = df['label']\n",
        "\n",
        "# Text Vectorization:\n",
        "# Initialize CountVectorizer to convert the collection of text documents into a matrix of token counts,\n",
        "# filtering out terms that appear too frequently or too infrequently across the documents.\n",
        "# This setup also focuses on bi-grams to capture two-word combinations, enriching the feature set.\n",
        "vectCount = CountVectorizer(max_df=0.8, min_df=0.02, stop_words=stopWords, ngram_range=(2,2))\n",
        "X = vectCount.fit_transform(paragraph)  # Transform 'paragraph' into a matrix of bi-gram counts.\n",
        "\n",
        "# TF-IDF Transformation:\n",
        "# Initialize TfidfTransformer to convert the raw frequency counts into TF-IDF values,\n",
        "# providing a reflection of the importance of words in the context of the entire dataset.\n",
        "# The transformation to a dense array format prepares data for dimensionality reduction.\n",
        "TransformTfidf = TfidfTransformer(smooth_idf=True, use_idf=True)\n",
        "X = TransformTfidf.fit_transform(X).toarray()  # Apply TF-IDF transformation.\n",
        "\n",
        "# Dimensionality Reduction with PCA:\n",
        "# Apply Principal Component Analysis (PCA) to reduce the dimensionality of the feature set to 3 principal components.\n",
        "# This step simplifies the dataset, aiming to retain the most significant variance while reducing the complexity.\n",
        "pca = PCA(n_components=3)\n",
        "XTrainFinal = pca.fit_transform(X)  # Fit and transform the TF-IDF matrix to 3 dimensions.\n",
        "\n",
        "# Dataset Splitting:\n",
        "# Split the processed data into training and testing sets to evaluate the model's performance on unseen data.\n",
        "# A test size of 30% provides a substantial amount of data for both training and evaluation, with a random state for reproducibility.\n",
        "XTrain, XTest, yTrain, yTest = train_test_split(XTrainFinal, labels, test_size=0.3, random_state=15)\n",
        "\n",
        "# Feature Scaling:\n",
        "# Initialize MinMaxScaler to scale the features to a specified range (default is [0, 1]).\n",
        "# Scaling is crucial for many algorithms that are sensitive to the magnitude of the feature values.\n",
        "minmaxScaler = preprocessing.MinMaxScaler()\n",
        "scaledXTrain = minmaxScaler.fit_transform(XTrain)  # Scale training features.\n",
        "scaledXTest = minmaxScaler.fit_transform(XTest)    # Scale testing features.\n"
      ]
    },
    {
      "cell_type": "code",
      "execution_count": 8,
      "metadata": {
        "colab": {
          "base_uri": "https://localhost:8080/",
          "height": 86
        },
        "colab_type": "code",
        "id": "jCPQAPIjccBl",
        "outputId": "e298f21c-6bc1-4423-9b82-b98cb7dd90d7"
      },
      "outputs": [
        {
          "name": "stdout",
          "output_type": "stream",
          "text": [
            "Training accuracy: 0.54\n",
            "Testing accuracy: 0.51\n",
            "Precision: 0.54\n",
            "Recall: 0.46\n"
          ]
        }
      ],
      "source": [
        "# Model Training:\n",
        "# Initialize a Support Vector Machine model specifically using the NuSVC algorithm, \n",
        "# which is similar to SVC but uses a parameter to control the number of support vectors.\n",
        "# The 'probability=True' argument enables probability estimates for class predictions.\n",
        "# The model is then trained on the preprocessed and scaled training data along with their corresponding labels.\n",
        "SVMModel = svm.NuSVC(probability=True)\n",
        "SVMModel.fit(scaledXTrain, yTrain)\n",
        "\n",
        "# Prediction:\n",
        "# With the model trained, use it to make predictions on both the training set (to evaluate overfitting)\n",
        "# and the test set (to evaluate the model's generalization performance).\n",
        "yTrainPred = SVMModel.predict(scaledXTrain)  # Predictions on training data.\n",
        "yTestPred = SVMModel.predict(scaledXTest)    # Predictions on test data.\n",
        "\n",
        "# Performance Evaluation:\n",
        "# Calculate the accuracy of the model on both the training data and the test data.\n",
        "# Accuracy is the proportion of correctly predicted observations to the total observations and gives\n",
        "# a general idea of how often the model is correct.\n",
        "trainingAccuracy = accuracy_score(yTrain, yTrainPred)  # Training accuracy.\n",
        "testAccuracy = accuracy_score(yTest, yTestPred)        # Test accuracy.\n",
        "\n",
        "# Precision and Recall:\n",
        "# Calculate precision and recall scores to further evaluate the model.\n",
        "# Precision (the proportion of positive identifications that were actually correct) assesses the model's result relevancy,\n",
        "# while recall (the proportion of actual positives that were identified correctly) assesses the model's ability to find all relevant instances.\n",
        "precisionScore = precision_score(yTest, yTestPred)  # Precision score.\n",
        "recallScore = recall_score(yTest, yTestPred)        # Recall score.\n",
        "\n",
        "# Results Output:\n",
        "# Print the calculated metrics to provide insights into the model's performance.\n",
        "# These metrics together give a more nuanced view of the model's effectiveness beyond simple accuracy.\n",
        "print(f'Training accuracy: {trainingAccuracy:.2f}')  # Displays training accuracy as a percentage rounded to two decimal places.\n",
        "print(f'Testing accuracy: {testAccuracy:.2f}')       # Displays testing accuracy as a percentage.\n",
        "print(f'Precision: {precisionScore:.2f}')            # Displays precision score.\n",
        "print(f'Recall: {recallScore:.2f}')                  # Displays recall score.\n"
      ]
    },
    {
      "cell_type": "code",
      "execution_count": null,
      "metadata": {
        "colab": {},
        "colab_type": "code",
        "id": "gjK_JSyZc8mB"
      },
      "outputs": [],
      "source": []
    }
  ],
  "metadata": {
    "colab": {
      "collapsed_sections": [],
      "name": "Train_SVM.ipynb",
      "provenance": []
    },
    "kernelspec": {
      "display_name": "Python 3",
      "name": "python3"
    },
    "language_info": {
      "codemirror_mode": {
        "name": "ipython",
        "version": 3
      },
      "file_extension": ".py",
      "mimetype": "text/x-python",
      "name": "python",
      "nbconvert_exporter": "python",
      "pygments_lexer": "ipython3",
      "version": "3.12.0"
    }
  },
  "nbformat": 4,
  "nbformat_minor": 0
}
