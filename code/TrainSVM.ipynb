{
  "cells": [
    {
      "cell_type": "code",
      "execution_count": 56,
      "metadata": {
        "colab": {
          "base_uri": "https://localhost:8080/",
          "height": 833
        },
        "colab_type": "code",
        "id": "hTIflOKXWxf4",
        "outputId": "9fa5cd98-c570-4892-eb2f-5df2143dcef3"
      },
      "outputs": [
        {
          "name": "stderr",
          "output_type": "stream",
          "text": [
            "[nltk_data] Error loading popular: <urlopen error [SSL:\n",
            "[nltk_data]     CERTIFICATE_VERIFY_FAILED] certificate verify failed:\n",
            "[nltk_data]     unable to get local issuer certificate (_ssl.c:1000)>\n"
          ]
        }
      ],
      "source": [
        "import nltk\n",
        "import pandas as pd\n",
        "import numpy as np\n",
        "nltk.download(\"popular\") \n",
        "from nltk.corpus import stopwords\n",
        "from sklearn.feature_extraction.text import CountVectorizer\n",
        "from sklearn.feature_extraction.text import TfidfTransformer\n",
        "from sklearn.decomposition import PCA\n",
        "from sklearn import preprocessing, svm\n",
        "from sklearn.model_selection import train_test_split\n",
        "from sklearn.metrics import accuracy_score, f1_score, classification_report\n",
        "stopWords = list(set(stopwords.words('english')))# remove repeated words and then convert to list as the input demands it in list format"
      ]
    },
    {
      "cell_type": "code",
      "execution_count": 57,
      "metadata": {},
      "outputs": [],
      "source": [
        "# stopWords"
      ]
    },
    {
      "cell_type": "code",
      "execution_count": 58,
      "metadata": {
        "colab": {},
        "colab_type": "code",
        "id": "FttEt1iQW53-"
      },
      "outputs": [],
      "source": [
        "\n",
        "df = pd.read_csv('./final1440_aapl.csv')"
      ]
    },
    {
      "cell_type": "code",
      "execution_count": 59,
      "metadata": {
        "colab": {
          "base_uri": "https://localhost:8080/",
          "height": 419
        },
        "colab_type": "code",
        "id": "1MkhP9K5cFLf",
        "outputId": "a663a07e-5876-42a6-8ae2-006e89cf27a9"
      },
      "outputs": [
        {
          "data": {
            "text/html": [
              "<div>\n",
              "<style scoped>\n",
              "    .dataframe tbody tr th:only-of-type {\n",
              "        vertical-align: middle;\n",
              "    }\n",
              "\n",
              "    .dataframe tbody tr th {\n",
              "        vertical-align: top;\n",
              "    }\n",
              "\n",
              "    .dataframe thead th {\n",
              "        text-align: right;\n",
              "    }\n",
              "</style>\n",
              "<table border=\"1\" class=\"dataframe\">\n",
              "  <thead>\n",
              "    <tr style=\"text-align: right;\">\n",
              "      <th></th>\n",
              "      <th>Unnamed: 0</th>\n",
              "      <th>text</th>\n",
              "      <th>sentiment</th>\n",
              "      <th>label</th>\n",
              "      <th>stock_time</th>\n",
              "    </tr>\n",
              "  </thead>\n",
              "  <tbody>\n",
              "    <tr>\n",
              "      <th>0</th>\n",
              "      <td>0</td>\n",
              "      <td>nape summit week will also feature the annual ...</td>\n",
              "      <td>0.050660</td>\n",
              "      <td>1.0</td>\n",
              "      <td>2017-12-08 05:00:00</td>\n",
              "    </tr>\n",
              "    <tr>\n",
              "      <th>1</th>\n",
              "      <td>1</td>\n",
              "      <td>from apple’s hugely anticipated iphone x to sa...</td>\n",
              "      <td>0.107128</td>\n",
              "      <td>-1.0</td>\n",
              "      <td>2017-12-11 05:00:00</td>\n",
              "    </tr>\n",
              "    <tr>\n",
              "      <th>2</th>\n",
              "      <td>2</td>\n",
              "      <td>“they are not just the largest browser, but th...</td>\n",
              "      <td>0.034394</td>\n",
              "      <td>1.0</td>\n",
              "      <td>2017-12-12 05:00:00</td>\n",
              "    </tr>\n",
              "    <tr>\n",
              "      <th>3</th>\n",
              "      <td>3</td>\n",
              "      <td>the humanitarian crisis in the drc has placed ...</td>\n",
              "      <td>0.000000</td>\n",
              "      <td>-1.0</td>\n",
              "      <td>2017-12-13 05:00:00</td>\n",
              "    </tr>\n",
              "    <tr>\n",
              "      <th>4</th>\n",
              "      <td>4</td>\n",
              "      <td>cramer prefers finisar (nasdaq: fnsr ) after a...</td>\n",
              "      <td>0.032563</td>\n",
              "      <td>1.0</td>\n",
              "      <td>2017-12-15 05:00:00</td>\n",
              "    </tr>\n",
              "  </tbody>\n",
              "</table>\n",
              "</div>"
            ],
            "text/plain": [
              "   Unnamed: 0                                               text  sentiment  \\\n",
              "0           0  nape summit week will also feature the annual ...   0.050660   \n",
              "1           1  from apple’s hugely anticipated iphone x to sa...   0.107128   \n",
              "2           2  “they are not just the largest browser, but th...   0.034394   \n",
              "3           3  the humanitarian crisis in the drc has placed ...   0.000000   \n",
              "4           4  cramer prefers finisar (nasdaq: fnsr ) after a...   0.032563   \n",
              "\n",
              "   label           stock_time  \n",
              "0    1.0  2017-12-08 05:00:00  \n",
              "1   -1.0  2017-12-11 05:00:00  \n",
              "2    1.0  2017-12-12 05:00:00  \n",
              "3   -1.0  2017-12-13 05:00:00  \n",
              "4    1.0  2017-12-15 05:00:00  "
            ]
          },
          "execution_count": 59,
          "metadata": {},
          "output_type": "execute_result"
        }
      ],
      "source": [
        "df.head()"
      ]
    },
    {
      "cell_type": "code",
      "execution_count": 60,
      "metadata": {
        "colab": {},
        "colab_type": "code",
        "id": "uotwpWh2XAs7"
      },
      "outputs": [],
      "source": [
        "# Extracting the text, sentiment, and label columns from the dataframe to use as features and targets.\n",
        "# 'paragraph' will serve as the main feature set for text analysis.\n",
        "# 'sentiments' and 'labels' are used as additional features and classification targets, respectively.\n",
        "paragraph = df['text']\n",
        "sentiments = df['sentiment']\n",
        "labels = df['label']\n",
        "\n",
        "# Initializing CountVectorizer to convert the text documents into a matrix of token counts.\n",
        "# It's configured to consider only those terms that appear in less than 80% of the documents and in at least 2% of the documents,\n",
        "# applying English stop words filtering and focusing on bi-grams to capture phrases.\n",
        "vectCount = CountVectorizer(max_df=0.8, min_df=0.02, stop_words=stopWords, ngram_range=(2,2))\n",
        "X = vectCount.fit_transform(paragraph)  # Transforming the 'paragraph' into a matrix of token counts.\n",
        "\n",
        "# Initializing TfidfTransformer to convert the count matrix from CountVectorizer into a normalized tf or tf-idf representation.\n",
        "# It smooths idf weights by adding one to document frequencies (as though an extra document was seen containing every term in the collection),\n",
        "# enabling the use of inverse document frequency reweighting.\n",
        "TransformTfidf = TfidfTransformer(smooth_idf=True, use_idf=True)\n",
        "X = TransformTfidf.fit_transform(X).toarray()  # Applying TF-IDF transformation to the matrix of token counts.\n",
        "\n",
        "# Initializing PCA (Principal Component Analysis) to reduce the dimensionality of the data to 3 components.\n",
        "# This step simplifies the dataset while retaining most of the variance, making it easier to visualize and process.\n",
        "pca = PCA(n_components=3)\n",
        "pcaComponents = pca.fit_transform(X)  # Transforming the TF-IDF matrix to its top 3 principal components.\n",
        "\n",
        "# Combining PCA components with the 'sentiments' column to enrich the feature set.\n",
        "# This is achieved by horizontally stacking the PCA components and the sentiment values, adding sentiment as an additional feature.\n",
        "XTrainFinal = np.hstack((pcaComponents, np.atleast_2d(sentiments).T))\n",
        "\n",
        "# Splitting the dataset into training and testing sets, with 70% of the data used for training and 30% for testing.\n",
        "# The split is performed randomly, with a fixed seed (random_state=23) to ensure reproducibility.\n",
        "XTrain, XTest, yTrain, yTest = train_test_split(XTrainFinal, labels, test_size=0.3, random_state=23)\n",
        "\n",
        "# Initializing MinMaxScaler to scale the feature set within a range, typically [0, 1].\n",
        "# This normalization is important for models that are sensitive to the magnitude of features.\n",
        "minmaxScaler = preprocessing.MinMaxScaler()\n",
        "scaledXTrain = minmaxScaler.fit_transform(XTrain)  # Scaling the training data\n",
        "scaledXTest = minmaxScaler.fit_transform(XTest)    # Scaling the testing data\n"
      ]
    },
    {
      "cell_type": "code",
      "execution_count": 61,
      "metadata": {
        "colab": {
          "base_uri": "https://localhost:8080/",
          "height": 221
        },
        "colab_type": "code",
        "id": "2Bv5soOUXDJu",
        "outputId": "6ba98e2f-cb10-4e24-af55-1c65fef08dd0"
      },
      "outputs": [
        {
          "name": "stdout",
          "output_type": "stream",
          "text": [
            "Training Accuracy: 0.79\n",
            "Testing Accuracy: 0.53\n",
            "F1 Score: 0.66\n",
            "\n",
            "Classification Report:\n",
            "               precision    recall  f1-score   support\n",
            "\n",
            "        -1.0       0.29      0.29      0.29        28\n",
            "         1.0       0.66      0.66      0.66        58\n",
            "\n",
            "    accuracy                           0.53        86\n",
            "   macro avg       0.47      0.47      0.47        86\n",
            "weighted avg       0.53      0.53      0.53        86\n",
            "\n"
          ]
        }
      ],
      "source": [
        "# Train the model:\n",
        "# Initializes an SVM model using the Nu Support Vector Classification method. \n",
        "# The 'gamma' parameter set to 'scale' automatically uses 1 / (n_features * X.var()) as the value of gamma,\n",
        "# 'probability=True' enables probability estimates. This model is then fitted to the scaled training data\n",
        "# along with the corresponding training labels, effectively 'learning' from this data.\n",
        "SVMModel = svm.NuSVC(gamma='scale', probability=True)\n",
        "SVMModel.fit(scaledXTrain, yTrain)\n",
        "\n",
        "# Make predictions:\n",
        "# With the model trained, it's now used to predict the labels for both the training data itself and the unseen test data.\n",
        "# This step evaluates how well the model has learned and how it generalizes to new, unseen data.\n",
        "yTrainPred = SVMModel.predict(scaledXTrain)\n",
        "yTestPred = SVMModel.predict(scaledXTest)\n",
        "\n",
        "# Calculate accuracy:\n",
        "# Calculates the accuracy of the predictions against the actual labels for both training and testing datasets.\n",
        "# Accuracy is the fraction of predictions our model got right. Additionally, the F1 score is calculated for the test predictions,\n",
        "# which considers both precision and recall to measure the test's accuracy more comprehensively.\n",
        "trainingAccuracy = accuracy_score(yTrain, yTrainPred)\n",
        "testAccuracy = accuracy_score(yTest, yTestPred)\n",
        "f1score = f1_score(yTest, yTestPred)\n",
        "\n",
        "# Generate classification report:\n",
        "# Generates a detailed classification report for the test predictions, providing key metrics such as precision, recall,\n",
        "# f1-score, and support for each class. This offers a more in-depth look at how well the model performs, especially in\n",
        "# a multi-class classification scenario.\n",
        "finalResults = classification_report(yTest, yTestPred)\n",
        "\n",
        "# Printing results:\n",
        "# Prints the calculated training and testing accuracy, and the F1 score, formatted to two decimal places for readability.\n",
        "# Then, it prints the full classification report to provide a comprehensive overview of the model's performance across\n",
        "# all considered classes.\n",
        "print(f'Training Accuracy: {trainingAccuracy:.2f}')\n",
        "print(f'Testing Accuracy: {testAccuracy:.2f}')\n",
        "print(f'F1 Score: {f1score:.2f}\\n')\n",
        "print('Classification Report:\\n', finalResults)\n"
      ]
    },
    {
      "cell_type": "code",
      "execution_count": 62,
      "metadata": {
        "colab": {},
        "colab_type": "code",
        "id": "AUKr2ulocV4u"
      },
      "outputs": [],
      "source": [
        "# Extracting the 'text' and 'label' columns from the dataframe to use as data and labels respectively\n",
        "paragraph = df['text']\n",
        "labels = df['label']\n",
        "\n",
        "# Initializing CountVectorizer with specific parameters to convert text documents to a matrix of token counts.\n",
        "# Only considering terms that appear in less than 80% of the documents and in at least 2% of the documents.\n",
        "# Also using bi-grams and removing predefined stop words.\n",
        "vectCount = CountVectorizer(max_df=0.8, min_df=0.02, stop_words=stopWords, ngram_range=(2,2))\n",
        "X = vectCount.fit_transform(paragraph)  # Fitting and transforming the paragraphs to a term frequency matrix\n",
        "\n",
        "# Initializing TfidfTransformer to transform the count matrix to a normalized tf-idf representation.\n",
        "# Setting smooth_idf=True to add one to document frequencies, as if an extra document was seen containing every term in the collection.\n",
        "# Setting use_idf=True to enable inverse-document-frequency reweighting.\n",
        "TransformTfidf = TfidfTransformer(smooth_idf=True, use_idf=True)\n",
        "X = TransformTfidf.fit_transform(X).toarray()  # Applying TF-IDF transformation\n",
        "\n",
        "# Initializing PCA to reduce the dimensionality of the tf-idf matrix to 3 components for visualization or further processing.\n",
        "pca = PCA(n_components=3)\n",
        "XTrainFinal = pca.fit_transform(X)  # Applying PCA transformation\n",
        "\n",
        "# Splitting the dataset into training and testing sets with 70% of the data used for training and 30% for testing.\n",
        "# The split is done randomly with a fixed random state for reproducibility.\n",
        "XTrain, XTest, yTrain, yTest = train_test_split(XTrainFinal, labels, test_size=0.3, random_state=23)\n",
        "\n",
        "# Initializing MinMaxScaler to scale the features of the dataset to a given range (default 0 to 1).\n",
        "# This is important for algorithms that are sensitive to the scale of the data.\n",
        "minmaxScaler = preprocessing.MinMaxScaler()\n",
        "scaledXTrain = minmaxScaler.fit_transform(XTrain)  # Scaling training data\n",
        "scaledXTest = minmaxScaler.fit_transform(XTest)    # Scaling testing data\n"
      ]
    },
    {
      "cell_type": "code",
      "execution_count": 63,
      "metadata": {
        "colab": {
          "base_uri": "https://localhost:8080/",
          "height": 221
        },
        "colab_type": "code",
        "id": "jCPQAPIjccBl",
        "outputId": "6bcffd8f-e19b-43f7-8d04-bddcfd58d578"
      },
      "outputs": [
        {
          "name": "stdout",
          "output_type": "stream",
          "text": [
            "Training accuracy: 0.70\n",
            "Testing accuracy: 0.52\n",
            "F1 Score: 0.59\n",
            "\n",
            "Classifcation report:\n",
            "               precision    recall  f1-score   support\n",
            "\n",
            "        -1.0       0.35      0.54      0.42        28\n",
            "         1.0       0.70      0.52      0.59        58\n",
            "\n",
            "    accuracy                           0.52        86\n",
            "   macro avg       0.52      0.53      0.51        86\n",
            "weighted avg       0.58      0.52      0.54        86\n",
            "\n"
          ]
        }
      ],
      "source": [
        "# Initialize an SVM model with NuSVC, setting gamma to 'scale' for automatic gamma calculation based on the data,\n",
        "# and enabling probability estimates.\n",
        "SVMModel = svm.NuSVC(gamma='scale', probability=True)\n",
        "\n",
        "# Fit the SVM model to the scaled training data and the corresponding labels.\n",
        "SVMModel.fit(scaledXTrain, yTrain)\n",
        "\n",
        "# Predict the labels for the training data using the trained SVM model to evaluate overfitting.\n",
        "yTrainPred = SVMModel.predict(scaledXTrain)\n",
        "# Predict the labels for the testing data using the trained SVM model for evaluation.\n",
        "yTestPred = SVMModel.predict(scaledXTest)\n",
        "\n",
        "# Calculate and print the training accuracy to evaluate how well the model has learned from the training dataset.\n",
        "trainingAccuracy = accuracy_score(yTrain, yTrainPred)\n",
        "\n",
        "\n",
        "# Calculate and print the testing accuracy to evaluate how well the model performs on unseen data.\n",
        "testAccuracy = accuracy_score(yTest, yTestPred)\n",
        "\n",
        "\n",
        "# Calculate and print the F1 score for the test data predictions to evaluate the balance between precision and recall.\n",
        "f1score = f1_score(yTest, yTestPred)\n",
        "\n",
        "\n",
        "# Generate and print a classification report for the test data predictions, providing a detailed evaluation\n",
        "# including precision, recall, f1-score, and support for each class.\n",
        "finalResults = classification_report(yTest, yTestPred)\n",
        "\n",
        "\n",
        "print(f'Training accuracy: {trainingAccuracy:.2f}')\n",
        "print(f'Testing accuracy: {testAccuracy:.2f}')\n",
        "print(f'F1 Score: {f1score:.2f}\\n')\n",
        "print(f'Classifcation report:\\n', finalResults)"
      ]
    },
    {
      "cell_type": "code",
      "execution_count": null,
      "metadata": {
        "colab": {},
        "colab_type": "code",
        "id": "gjK_JSyZc8mB"
      },
      "outputs": [],
      "source": []
    }
  ],
  "metadata": {
    "colab": {
      "collapsed_sections": [],
      "name": "TrainSVM.ipynb",
      "provenance": []
    },
    "kernelspec": {
      "display_name": "Python 3",
      "name": "python3"
    },
    "language_info": {
      "codemirror_mode": {
        "name": "ipython",
        "version": 3
      },
      "file_extension": ".py",
      "mimetype": "text/x-python",
      "name": "python",
      "nbconvert_exporter": "python",
      "pygments_lexer": "ipython3",
      "version": "3.12.0"
    }
  },
  "nbformat": 4,
  "nbformat_minor": 0
}
